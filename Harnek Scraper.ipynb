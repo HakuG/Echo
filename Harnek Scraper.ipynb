{
 "metadata": {
  "name": "",
  "signature": "sha256:73b5fc68676a1c9780647e933149cb403ae10cca0e339653f0eca75419d8c67f"
 },
 "nbformat": 3,
 "nbformat_minor": 0,
 "worksheets": [
  {
   "cells": [
    {
     "cell_type": "code",
     "collapsed": false,
     "input": [
      "from bs4 import BeautifulSoup as bs\n",
      "\n",
      "import requests\n",
      "\n",
      "#get the html\n",
      "r = requests.get(\"http://brewingmarketcoffee.com/events/\")\n",
      "\n",
      "# make it into a text file\n",
      "data = r.text\n",
      "\n",
      "soup = bs(data, 'html')\n",
      "\n",
      "a = soup.text\n",
      "\n",
      "#Possibly don't split by periods. Just spaces. It's to help against P.M. vs PM\n",
      "chars = a.split()\n",
      "\n",
      "length = len(chars)\n",
      "\n",
      "# Range after we find a time where we look for other relevant information\n",
      "crange = 10\n",
      "\n",
      "Months = {\"jan\", \"january\", \"feb\", \"february\", \"mar\", \"march\", \"apr\", \"april\", \"may\", \"jun\", \"june\", \"jul\", \"july\", \"aug\", \"august\", \n",
      "          \"sep\", \"september\", \"oct\", \"october\", \"nov\", \"november\", \"dec\", \"december\"}"
     ],
     "language": "python",
     "metadata": {},
     "outputs": [],
     "prompt_number": 246
    },
    {
     "cell_type": "code",
     "collapsed": false,
     "input": [
      "# Scrap paper\n"
     ],
     "language": "python",
     "metadata": {},
     "outputs": [],
     "prompt_number": 228
    },
    {
     "cell_type": "code",
     "collapsed": false,
     "input": [
      "# Gives a ranking as to whether this is an events page or not\n",
      "\n",
      "keywords = [\"location\", \"date\", \"when\", \"time\", \"location\", \"where\", \"address\"]\n",
      "counter = 0\n",
      "def eventsPage(b):\n",
      "    b = b.lower().strip().strip(\":\");\n",
      "    for val in keywords:\n",
      "        if val in b:\n",
      "            global counter\n",
      "            counter = counter + 1\n",
      "            print counter\n",
      "            print b\n",
      "            return True\n",
      "    return False\n",
      " \n",
      "def test(b):\n",
      "    global counter\n",
      "    if b:\n",
      "        for kword in keywords:\n",
      "            if kword in b.lower():\n",
      "                print b\n",
      "                counter +=1\n",
      "                return True\n",
      "    return False\n",
      "\n",
      "for b in soup.find_all(lambda tag:tag.name==\"div\" and test(tag.get(\"id\"))):\n",
      "    print b.text.split(\"\\n\")"
     ],
     "language": "python",
     "metadata": {},
     "outputs": [
      {
       "output_type": "stream",
       "stream": "stdout",
       "text": [
        "ctl00_HeaderPlaceholder_ctl05_contentUpdatePanelListView\n",
        "[u'', u'', u'', u'', u'', u'', u'\\r', u'Calendar      ', u'View all calendars is the default. Choose Select a Calendar to view a specific calendar. ', u'', u'', u'', u'List', u'', u'', u'Week', u'', u'', u'Month', u'', u'', u'', u'', u'', u'', u'', u'', u'\\r', u'                                    Subscribe to iCalendar', u'', u'', u'', u'', u'', u'', u'', u'Notify Me', u'', u'', u'', u'Search calendar by:', u'', u' ', u'', u'  ', u'', u' ', u'Select a Calendar', u'', u'', u'', u'', u'', u'', u'', u'All Calendars', u'', u'', u'', u'\\r', u'City Clerk\\r', u'\\t\\t', u'', u'', u'', u'\\r', u'City of Lafayette Volunteers\\r', u'\\t\\t', u'', u'', u'', u'\\r', u'Environmental Sustainability\\r', u'\\t\\t', u'', u'', u'', u'\\r', u'Festival Plaza\\r', u'\\t\\t', u'', u'', u'', u'\\r', u'Greenlee Room - Recreation Center\\r', u'\\t\\t', u'', u'', u'', u'', u'', u'\\r', u'Lafayette Board, Commission & Committee Meetings\\r', u'\\t\\t', u'', u'', u'', u'\\r', u'Lafayette City Calendar\\r', u'\\t\\t', u'', u'', u'', u'\\r', u'Lafayette City Council\\r', u'\\t\\t', u'', u'', u'', u'\\r', u'Lafayette Cultural Resources\\r', u'\\t\\t', u'', u'', u'', u'\\r', u'Lafayette Human Resources\\r', u'\\t\\t', u'', u'', u'', u'\\r', u'Lafayette Open Space\\r', u'\\t\\t', u'', u'', u'', u'', u'', u'\\r', u'Lafayette Planning Commission\\r', u'\\t\\t', u'', u'', u'', u'\\r', u'Lafayette Police Department\\r', u'\\t\\t', u'', u'', u'', u'\\r', u'Lafayette Public Library\\r', u'\\t\\t', u'', u'', u'', u'\\r', u'Lafayette Public Works Department\\r', u'\\t\\t', u'', u'', u'', u'\\r', u'Lafayette Recreation Department\\r', u'\\t\\t', u'', u'', u'', u'', u'', u'\\r', u'Lafayette Senior Services\\r', u'\\t\\t', u'', u'', u'', u'\\r', u'Lamont Does Park Shelter\\r', u'\\t\\t', u'', u'', u'', u'\\r', u'Rothman Room - Recreation Center\\r', u'\\t\\t', u'', u'', u'', u'\\r', u'Starkey Building\\r', u'\\t\\t', u'', u'', u'', u'\\r', u'Waneka West & East Park Shelters\\r', u'\\t\\t', u'', u'', u\"\\tnumCheckable = 21;\\tnumChecked = 21;\\tdocument.getElementById('allCalendars').checked = (numChecked == numCheckable);\", u'', u'', u'', u'', u'', u'', u'', u'', u'June', u'', u'', u'2015', u'', u'', u'', u'', u'', u'January', u'February', u'March', u'April', u'May', u'June', u'July', u'August', u'September', u'October', u'November', u'December', u'', u'', u'', u'', u'', u'', u'', u'', u'2010', u'2011', u'2012', u'2013', u'2014', u'2015', u'2016', u'2017', u'2018', u'2019', u'', u'', u'', u'', u' ', u'', u'', u'Su', u'M', u'Tu', u'W', u'Th', u'F', u'Sa', u'', u'', u'', u' 31  1  2  3  4  5  6   7  8  9  10  11  12  13   14  15  16  17  18  19 20    21  22  23  24  25  26 27   28  29  30 1 2 3 4  ', u'', u' ', u'Jump To:', u'', u' Festival Plaza (4)', u' Lafayette Board, Commission & Committee Meetings (12)', u' Lafayette City Calendar (9)', u' Lafayette City Council (2)', u' Lafayette Cultural Resources (2)', u' Lafayette Police Department (1)', u' Lafayette Public Works Department (1)', u' Lafayette Recreation Department (32)', u' Lafayette Senior Services (25)', u'', u'', u'', u' ', u'Festival Plaza', u' ', u'', u'Picnic on the Plaza', u'2015-6-3T12:00 PMJune\\xa03,\\xa012:00 PM\\u2009-\\u20091:00 PM\\r', u' @ Festival Plaza', u'The summer lunch concerts are held on Wednesdays at Festival Plaza, 311 S. Public Rd in Old Town Lafayette, under the shade structure. \\r', u'\\r', u'3-June Hippie Buckaroos\\r', u'10-June Sharon Glassman\\r', u'17-June Kutandara Kombi\\r', u'24-June Think Twice \\r', u'1-July Blues on the Lamb \\r', u'8-July House of Joy (with students)\\r', u'15-July Steve Christopher \\u2013 Jazz Combo\\r', u'22-July Annie Savage (with students)\\r', u'\\r', u'Thanks to our Sponsors!\\r', u'', u\"Anspach's Jewelry\", u'ARTS!Lafayette', u'Coal Creek Brokers', u'Lafayette Collectibles and Flea Market', u'Lafayette Chamber of Commerce', u'More Details', u'', u'', u'Picnic on the Plaza', u'2015-6-10T12:00 PMJune\\xa010,\\xa012:00 PM\\u2009-\\u20091:00 PM\\r', u' @ Festival Plaza', u'The summer lunch concerts are held on Wednesdays at Festival Plaza, 311 S. Public Rd in Old Town Lafayette, under the shade structure. \\r', u'\\r', u'3-June Hippie Buckaroos\\r', u'10-June Sharon Glassman\\r', u'17-June Kutandara Kombi\\r', u'24-June Think Twice \\r', u'1-July Blues on the Lamb \\r', u'8-July House of Joy (with students)\\r', u'15-July Steve Christopher \\u2013 Jazz Combo\\r', u'22-July Annie Savage (with students)\\r', u'\\r', u'Thanks to our Sponsors!\\r', u'', u\"Anspach's Jewelry\", u'ARTS!Lafayette', u'Coal Creek Brokers', u'Lafayette Collectibles and Flea Market', u'Lafayette Chamber of Commerce', u'More Details', u'', u'', u'Picnic on the Plaza', u'2015-6-17T12:00 PMJune\\xa017,\\xa012:00 PM\\u2009-\\u20091:00 PM\\r', u' @ Festival Plaza', u'The summer lunch concerts are held on Wednesdays at Festival Plaza, 311 S. Public Rd in Old Town Lafayette, under the shade structure. \\r', u'\\r', u'3-June Hippie Buckaroos\\r', u'10-June Sharon Glassman\\r', u'17-June Kutandara Kombi\\r', u'24-June Think Twice \\r', u'1-July Blues on the Lamb \\r', u'8-July House of Joy (with students)\\r', u'15-July Steve Christopher \\u2013 Jazz Combo\\r', u'22-July Annie Savage (with students)\\r', u'\\r', u'Thanks to our Sponsors!\\r', u'', u\"Anspach's Jewelry\", u'ARTS!Lafayette', u'Coal Creek Brokers', u'Lafayette Collectibles and Flea Market', u'Lafayette Chamber of Commerce', u'More Details', u'', u'', u'Picnic on the Plaza', u'2015-6-24T12:00 PMJune\\xa024,\\xa012:00 PM\\u2009-\\u20091:00 PM\\r', u' @ Festival Plaza', u'The summer lunch concerts are held on Wednesdays at Festival Plaza, 311 S. Public Rd in Old Town Lafayette, under the shade structure. \\r', u'\\r', u'3-June Hippie Buckaroos\\r', u'10-June Sharon Glassman\\r', u'17-June Kutandara Kombi\\r', u'24-June Think Twice \\r', u'1-July Blues on the Lamb \\r', u'8-July House of Joy (with students)\\r', u'15-July Steve Christopher \\u2013 Jazz Combo\\r', u'22-July Annie Savage (with students)\\r', u'\\r', u'Thanks to our Sponsors!\\r', u'', u\"Anspach's Jewelry\", u'ARTS!Lafayette', u'Coal Creek Brokers', u'Lafayette Collectibles and Flea Market', u'Lafayette Chamber of Commerce', u'More Details', u'', u'', u'', u' ', u'Lafayette Board, Commission & Committee Meetings', u' ', u'', u'Lafayette Youth Advisory Committe', u'2015-6-3T6:30 PMJune\\xa03,\\xa06:30 PM\\u2009-\\u20097:30 PM\\r', u' @ Bob L. Burger Recreation Center', u'Meetings usually start at 6:30 pm.  Check the agenda for more information.', u'More Details', u'', u'', u'Lafayette Open Space Advisory Committee', u'2015-6-4T6:00 PMJune\\xa04,\\xa06:00 PM\\u2009-\\u20098:00 PM\\r', u' @ City Hall', u'Meetings start at 6:00 PM with public input.  Check the meeting agenda for complete details.', u'More Details', u'', u'', u'WRAC Meeting', u'2015-6-4T6:30 PMJune\\xa04,\\xa06:30 PM\\u2009-\\u20098:00 PM\\r', u' @ Library Conference Room', u'The Waste Reduction Advisory Committee (WRAC) meets the first Thursday of each month.', u'More Details', u'', u'', u'Library Board Meeting', u'2015-6-8T6:30 PMJune\\xa08,\\xa06:30 PM\\u2009-\\u20098:00 PM\\r', u' @ Lafayette Public Library', u'', u'More Details', u'', u'', u'Lafayette Energy Sustainability Advisory Committee', u'2015-6-9T6:30 PMJune\\xa09,\\xa06:30 PM\\u2009-\\u20098:30 PM\\r', u' @ City Hall', u'Meetings usually start at 6:30 pm.  Check the agenda for more information.  Meetings are held on the 2nd floor in the Aspen room.', u'More Details', u'', u'', u'LURA Meeting', u'2015-6-9T6:30 PMJune\\xa09,\\xa06:30 PM\\u2009-\\u20099:00 PM\\r', u' @ City Council ChambersCity Council Chambers1290 S. Public RoadLafayette, CO 80026', u'', u'More Details', u'', u'', u'Lafayette Senior Advisory Board', u'2015-6-10T3:30 PMJune\\xa010,\\xa03:30 PM\\u2009-\\u20095:30 PM\\r', u' @ Senior Services Center', u'Meeting Start at 3:30pm.  Check the meeting agenda for complete details.', u'More Details', u'', u'', u'Public Art Committee', u'2015-6-10T7:00 PMJune\\xa010,\\xa07:00 PM\\u2009-\\u20099:00 PM\\r', u' @ Lafayette Public Library', u'', u'More Details', u'', u'', u'Lafayette Youth Advisory Committee', u'2015-6-17T6:30 PMJune\\xa017,\\xa06:30 PM\\u2009-\\u20097:30 PM\\r', u' @ Bob L. Burger Recreation Center', u'Meetings usually start at 6:30 pm.  Check the agenda for more information.', u'More Details', u'', u'', u'Lafayette Cultural Arts Commission', u'2015-6-23T7:00 PMJune\\xa023,\\xa07:00 PM\\u2009-\\u20099:00 PM\\r', u' @ Library Conference Room', u'', u'More Details', u'', u'', u'Planning Commission Meeting', u'2015-6-23T7:00 PMJune\\xa023,\\xa07:00 PM\\u2009-\\u200910:00 PM\\r', u' @ City Hall', u'', u'More Details', u'', u'', u'Planning Commission Meeting', u'2015-6-24T7:00 PMJune\\xa024,\\xa07:00 PM\\u2009-\\u200910:00 PM\\r', u' @ City Hall', u'', u'More Details', u'', u'', u'', u' ', u'Lafayette City Calendar', u' ', u'', u'Picnic on the Plaza', u'2015-6-3T12:00 PMJune\\xa03,\\xa012:00 PM\\u2009-\\u20091:00 PM\\r', u' @ Festival Plaza', u'The summer lunch concerts are held on Wednesdays at Festival Plaza, 311 S. Public Rd in Old Town Lafayette, under the shade structure. \\r', u'\\r', u'3-June Hippie Buckaroos\\r', u'10-June Sharon Glassman\\r', u'17-June Kutandara Kombi\\r', u'24-June Think Twice \\r', u'1-July Blues on the Lamb \\r', u'8-July House of Joy (with students)\\r', u'15-July Steve Christopher \\u2013 Jazz Combo\\r', u'22-July Annie Savage (with students)\\r', u'\\r', u'Thanks to our Sponsors!\\r', u'', u\"Anspach's Jewelry\", u'ARTS!Lafayette', u'Coal Creek Brokers', u'Lafayette Collectibles and Flea Market', u'Lafayette Chamber of Commerce', u'More Details', u'', u'', u'Art on the Street and See & Respond Artists Reception', u'2015-6-5T6:00 PMJune\\xa05,\\xa06:00 PM\\u2009-\\u20099:00 PM\\r', u' @ Lafayette Public Library', u'\\u2022Friday, June 5; 6:00 - 9:00pm\\r', u'\\u2022Lafayette Public Library\\r', u'\\u2022Tickets $10 for adults, $5 for teens, and children under 12 are free\\r', u'\\u2022Event includes, poetry reading, art show, presentation of awards\\r', u'\\u2022Ticket price includes appetizers, desserts and one beverage\\r', u'\\u2022Beer and wine available for purchase\\r', u'\\u2022Tickets available at the door\\r', u'', u'More Details', u'', u'', u'Issues Over Eggs with City Council', u'2015-6-6T9:00 AMJune\\xa06,\\xa09:00 AM\\u2009-\\u200910:00 AM\\r', u' @ Indian Peaks Golf Course', u'Join City Council members to discuss issues important to you, while enjoying a light, complimentary egg breakfast. These informal events will be held the first Saturday in April, May and June at the Indian Peaks Golf Course Grill.\\r', u'\\r', u'Saturday, April 4. 2015\\r', u'Saturday, May 2, 2015\\r', u'Saturday, June 6, 2015\\r', u'\\r', u'9:00-10:00am\\r', u'The Peaks Bar and Grill at Indian Peaks Golf Course\\r', u'2300 Indian Peaks Trail / Lafayette, CO\\r', u'', u'More Details', u'', u'', u'Skatepark event with the Lafayette Fire Dept ', u'2015-6-6T10:00 AMJune\\xa06,\\xa010:00 AM\\u2009-\\u20092:00 PM\\r', u' @ Lafayette Skatepark', u'Get your summer rolling with the Fire Department at the Lafayette Skatepark!  \\r', u'\\r', u'Join the Lafayette Fire Department, Good Samaritan Medical Center, and the Kid\\u2019s Safe Coalition led by Children\\u2019s Hospital, for a safe, fun, and free event at the Lafayette Skatepark!', u'More Details', u'', u'', u'Picnic on the Plaza', u'2015-6-10T12:00 PMJune\\xa010,\\xa012:00 PM\\u2009-\\u20091:00 PM\\r', u' @ Festival Plaza', u'The summer lunch concerts are held on Wednesdays at Festival Plaza, 311 S. Public Rd in Old Town Lafayette, under the shade structure. \\r', u'\\r', u'3-June Hippie Buckaroos\\r', u'10-June Sharon Glassman\\r', u'17-June Kutandara Kombi\\r', u'24-June Think Twice \\r', u'1-July Blues on the Lamb \\r', u'8-July House of Joy (with students)\\r', u'15-July Steve Christopher \\u2013 Jazz Combo\\r', u'22-July Annie Savage (with students)\\r', u'\\r', u'Thanks to our Sponsors!\\r', u'', u\"Anspach's Jewelry\", u'ARTS!Lafayette', u'Coal Creek Brokers', u'Lafayette Collectibles and Flea Market', u'Lafayette Chamber of Commerce', u'More Details', u'', u'', u'Bicycle Rodeo with Lafayette Police Officers', u'2015-6-13T9:00 AMJune\\xa013,\\xa09:00 AM\\u2009-\\u200912:00 PM\\r', u' @ Rodeo will be set up in either front or rear parking lot.  More information to follow.', u'This FREE fun event is for children 12 and under to learn about bicycle safety from Lafayette police officers. There will be a road skills course, helmet fits, bike safety inspections AND lunch! Participants need to bring their bike and safety gear and will need to be accompanied by an adult to sign a release and waiver form. Forms are available day of event or on our website closer to event. The rodeo will be held in either the front or rear parking lot of Flatirons Church at 355 West South Boulder Road. We hope to also raffle a bicycle, have a police motorcycle display & have lots of local sponsors! GREAT FAMILY EVENT to kick off summer bike riding!', u'More Details', u'', u'', u'Picnic on the Plaza', u'2015-6-17T12:00 PMJune\\xa017,\\xa012:00 PM\\u2009-\\u20091:00 PM\\r', u' @ Festival Plaza', u'The summer lunch concerts are held on Wednesdays at Festival Plaza, 311 S. Public Rd in Old Town Lafayette, under the shade structure. \\r', u'\\r', u'3-June Hippie Buckaroos\\r', u'10-June Sharon Glassman\\r', u'17-June Kutandara Kombi\\r', u'24-June Think Twice \\r', u'1-July Blues on the Lamb \\r', u'8-July House of Joy (with students)\\r', u'15-July Steve Christopher \\u2013 Jazz Combo\\r', u'22-July Annie Savage (with students)\\r', u'\\r', u'Thanks to our Sponsors!\\r', u'', u\"Anspach's Jewelry\", u'ARTS!Lafayette', u'Coal Creek Brokers', u'Lafayette Collectibles and Flea Market', u'Lafayette Chamber of Commerce', u'More Details', u'', u'', u'Lafayette Bike to Work Breakfast Station', u'2015-6-24T6:30 AMJune\\xa024,\\xa06:30 AM\\u2009-\\u20099:00 AM\\r', u' @ The breakfast station will be located along the Baseline Rd sidewalk in front of the Lafayette Library', u'City of Lafayette Breakfast Station\\r', u'775 W. Baseline Rd (on the south side of the Lafayette Public Library)\\r', u'6:30am \\u2013 9:00am\\r', u'\\r', u'\\u2022 Foxtrot Wheel and Edge will be on hand to assist with bike maintenance and safety checks as well as quick repairs\\r', u'\\r', u'Jax Outdoor Gear Breakfast and Bike Home Station\\r', u'900 South Hwy 287\\r', u'6:30am \\u2013 9:00am; Pancake Breakfast Station\\r', u'4:30pm \\u2013 6:00pm; Bike Home Station with snacks and drinks\\r', u'\\r', u'The Denver Regional Council of Governments brings together city and county governments and other interested groups in the metro area each year to plan Bike to Work Day as a way of raising awareness of bicycle commuting and to educate commuters about the benefits of using two wheels to get to work.  ', u'More Details', u'', u'', u'Picnic on the Plaza', u'2015-6-24T12:00 PMJune\\xa024,\\xa012:00 PM\\u2009-\\u20091:00 PM\\r', u' @ Festival Plaza', u'The summer lunch concerts are held on Wednesdays at Festival Plaza, 311 S. Public Rd in Old Town Lafayette, under the shade structure. \\r', u'\\r', u'3-June Hippie Buckaroos\\r', u'10-June Sharon Glassman\\r', u'17-June Kutandara Kombi\\r', u'24-June Think Twice \\r', u'1-July Blues on the Lamb \\r', u'8-July House of Joy (with students)\\r', u'15-July Steve Christopher \\u2013 Jazz Combo\\r', u'22-July Annie Savage (with students)\\r', u'\\r', u'Thanks to our Sponsors!\\r', u'', u\"Anspach's Jewelry\", u'ARTS!Lafayette', u'Coal Creek Brokers', u'Lafayette Collectibles and Flea Market', u'Lafayette Chamber of Commerce', u'More Details', u'', u'', u'', u' ', u'Lafayette City Council', u' ', u'', u'Issues Over Eggs ', u'2015-6-6T9:00 AMJune\\xa06,\\xa09:00 AM\\u2009-\\u200910:00 AM\\r', u' @ Indian Peaks Golf Course', u'Join City Council members to discuss issues important to you, while enjoying a light, complimentary egg breakfast. These informal events will be held the first Saturday in April, May and June at the Indian Peaks Golf Course Grill.\\r', u'\\r', u'Saturday, April 4. 2015\\r', u'Saturday, May 2, 2015\\r', u'Saturday, June 6, 2015\\r', u'\\r', u'9:00-10:00am\\r', u'The Peaks Bar and Grill at Indian Peaks Golf Course\\r', u'2300 Indian Peaks Trail / Lafayette, CO\\r', u'', u'More Details', u'', u'', u'City Council Meeting', u'2015-6-16T5:30 PMJune\\xa016,\\xa05:30 PM\\u2009-\\u20099:00 PM\\r', u' @ City Hall', u'Meetings usually start at 5:30 with a workshop. Check the meeting agenda for complete details.', u'More Details', u'', u'', u'', u' ', u'Lafayette Cultural Resources', u' ', u'', u'Art on the Street and See & Respond Artists Reception', u'2015-6-5T6:00 PMJune\\xa05,\\xa06:00 PM\\u2009-\\u20099:00 PM\\r', u' @ Lafayette Public Library', u'\\u2022Friday, June 5; 6:00 - 9:00pm\\r', u'\\u2022Lafayette Public Library\\r', u'\\u2022Tickets $10 for adults, $5 for teens, and children under 12 are free\\r', u'\\u2022Event includes, poetry reading, art show, presentation of awards\\r', u'\\u2022Ticket price includes appetizers, desserts and one beverage\\r', u'\\u2022Beer and wine available for purchase\\r', u'\\u2022Tickets available at the door\\r', u'', u'More Details', u'', u'', u'June Art Night Out', u'2015-6-19T5:00 PMJune\\xa019,\\xa05:00 PM\\u2009-\\u20099:15 PM\\r', u' @ Festival Plaza', u'Boulder band, Hot Soup will be featured at the June 19,  Lafayette\\u2019s Art Night Out.  Art Night Out also features artist booths, children\\u2019s activities, five food trucks, and a beer & wine garden as part of their summer arts series, on the third Friday of each month May \\u2013 September. Located in the heart of Old Town Lafayette, local restaurants, shops, galleries and coffee shops offer specials, live music, art demonstrations and special events in conjunction with Art Night Out!', u'More Details', u'', u'', u'', u' ', u'Lafayette Police Department', u' ', u'', u'Bicycle Rodeo with Lafayette Police Officers', u'2015-6-13T9:00 AMJune\\xa013,\\xa09:00 AM\\u2009-\\u200912:00 PM\\r', u' @ Rodeo will be set up in either front or rear parking lot.  More information to follow.', u'This FREE fun event is for children 12 and under to learn about bicycle safety from Lafayette police officers. There will be a road skills course, helmet fits, bike safety inspections AND lunch! Participants need to bring their bike and safety gear and will need to be accompanied by an adult to sign a release and waiver form. Forms are available day of event or on our website closer to event. The rodeo will be held in either the front or rear parking lot of Flatirons Church at 355 West South Boulder Road. We hope to also raffle a bicycle, have a police motorcycle display & have lots of local sponsors! GREAT FAMILY EVENT to kick off summer bike riding!', u'More Details', u'', u'', u'', u' ', u'Lafayette Public Works Department', u' ', u'', u'Republic Services Customer Appreciation Compost Give-Away', u'2015-6-6T9:00 AMJune\\xa06,\\xa09:00 AM\\u2009-\\u20093:00 PM\\r', u' @ 1700 Avalon Ave1700 Avalon AveLafayette, CO 80026', u\"Residents must bring CITY OF LAFAYETTE WATER UTILITY BILL showing trash service cost and Driver's License. \\r\", u'\\r', u'Please bring containers and shovels. Help with skidsteer will be provided for truck beds and trailers. There is a two-trip maximum for trucks and trailers. \\r', u'\\r', u'For the safety of all, please keep children and pets inside vehicle at all times. \\r', u'\\r', u'For more information on your Residential Waste Services please contact Republic: http://www.republicservicesdenver.com/lafayette or at 303-286-1200. \\r', u'', u'More Details', u'', u'', u'', u' ', u'Lafayette Recreation Department', u' ', u'', u'Harmony A.C.T. - The Art of Legos - 4-8 yrs', u'2015-6-3T1:00 PMJune\\xa03,\\xa01:00 PM\\u2009-\\u20093:30 PM\\r', u' @ Bob L. Burger Recreation Center', u'This is not like any other Lego camp.  Take home a Lego creation each day.  Check the agenda below for more information.', u'More Details', u'', u'', u\"Men's Basketball Summer League\", u'2015-6-3T5:00 PMJune\\xa03,\\xa05:00 PM\\u2009-\\u20097:00 PM\\r', u' @ Bob L. Burger Recreation Center', u'Lafayette Recreation will be offering a Sunday Men\\'s \"C\" Recreation league and Wednesday Men\\'s \"C\" Leisure adult basketball league.\\r', u'Check the agenda below for more information.\\r', u'', u'More Details', u'', u'', u'Adult Swim Lessons - Advanced', u'2015-6-4T6:15 PMJune\\xa04,\\xa06:15 PM\\u2009-\\u20096:45 PM\\r', u' @ Bob L. Burger Recreation Center', u\"It's never too late to learn to swim.  Add another component to your fitness routine.  Check the agenda below for more information.\", u'More Details', u'', u'', u'Swim Lessons', u'2015-6-6T9:15 AMJune\\xa06,\\xa09:15 AM\\u2009-\\u200911:45 AM\\r', u' @ Bob L. Burger Recreation Center', u'The purpose of the American Red Cross Swimming and Water Safety program is to teach individuals of different ages and abilities how to swim and be safe in, on and around the water.  Check the agenda below for more information.', u'More Details', u'', u'', u'Skatepark event with the Lafayette Fire Dept ', u'2015-6-6T10:00 AMJune\\xa06,\\xa010:00 AM\\u2009-\\u20092:00 PM\\r', u' @ Lafayette Skatepark', u'Get your summer rolling with the Fire Department at the Lafayette Skatepark!  \\r', u'\\r', u'Join the Lafayette Fire Department, Good Samaritan Medical Center, and the Kid\\u2019s Safe Coalition led by Children\\u2019s Hospital, for a safe, fun, and free event at the Lafayette Skatepark!', u'More Details', u'', u'', u'Lafayette Summer Day Camp - K-5th Grades', u'2015-6-8T7:30 AMJune\\xa08,\\xa07:30 AM\\u2009-\\u20096:00 PM\\r', u' @ Pioneer Elementary\\r', u'101 E. Baseline Rd.  Lafayette, CO  80026', u'Summer is a time for our imaginations to run wild; a time for laughing, making life long friends, learning through hands-on adventures and discovering ourselves through safe, fun and engaging activities.  Check the agenda below for more information.', u'More Details', u'', u'', u'CARA Youth Tennis Team', u'2015-6-8T8:15 AMJune\\xa08,\\xa08:15 AM\\u2009-\\u200910:50 AM\\r', u' @ LaMont Does Park', u'The Lafayette CARA Tennis Team is a place to work on your skills and learn to play matches in a non-competitive environment.  Check the agenda below for more information.', u'More Details', u'', u'', u'Lafayette Explorers Summer Camp - 3-5 yrs', u'2015-6-8T8:30 AMJune\\xa08,\\xa08:30 AM\\u2009-\\u20093:30 PM\\r', u' @ Bob L. Burger Recreation Center', u'Our camp is a wonderful opportunity for 3-5 year olds to embark on fun filled summer adventures!  Check the agenda below for more information.', u'More Details', u'', u'', u'Summer Full Day Skate Camps - Square State Skate - 5-15 yrs', u'2015-6-8T8:30 AMJune\\xa08,\\xa08:30 AM\\u2009-\\u20093:30 PM\\r', u' @ Lafayette Skatepark', u\"Square State Skate's full-day camps are geared toward the intermediate and advanced skaters, but are open to all skill levels.  Check the agenda below for more information.\", u'More Details', u'', u'', u'Mad Science Summer Camp Science in Motion - 6-12 yrs', u'2015-6-8T9:00 AMJune\\xa08,\\xa09:00 AM\\u2009-\\u20094:00 PM\\r', u' @ Bob L. Burger Recreation Center', u'Join a team of camper engineers and build bridges.  Check the agenda below for more information.', u'More Details', u'', u'', u'Pancho Hansen Youth Soccer Camps- 4-11 yrs', u'2015-6-8T9:00 AMJune\\xa08,\\xa09:00 AM\\u2009-\\u200910:30 AM\\r', u' @ City Park', u'This camp is being offered for boys and girls interested in gearing up for the fall soccer season.  Check the agenda below for  more information.', u'More Details', u'', u'', u'Tiny T-Ball (Co-ed)  4 yrs', u'2015-6-8T9:00 AMJune\\xa08,\\xa09:00 AM\\u2009-\\u20099:45 AM\\r', u' @ City Park', u'Tiny T-ball is for the smallest of ball players.  This instructional program will stress the most basic skills.\\r', u'Check the agenda below for more information.', u'More Details', u'', u'', u'Pee Wee T-Ball (Co-ed)  5-6 yrs', u'2015-6-8T9:45 AMJune\\xa08,\\xa09:45 AM\\u2009-\\u2009June\\xa09,\\xa06:45 PM\\r', u' @ City Park', u'Pee Wee T-ball is an instructional program open to boys and girls 5-6 years of age, determined as of July 31.\\r', u'Check the agenda below for more information.', u'More Details', u'', u'', u'Youth Tennis Lesson', u'2015-6-8T11:00 AMJune\\xa08,\\xa011:00 AM\\u2009-\\u20097:10 PM\\r', u' @ LaMont Does Park', u'All youth tennis lesson participants must bring a racquet, water and a can of tennis balls to the first lesson.  Check the agenda below for more information.', u'More Details', u'', u'', u'Baseball, Softpitch and Softball (7-11 yrs)', u'2015-6-8T5:00 PMJune\\xa08,\\xa05:00 PM\\u2009-\\u20097:00 PM\\r', u' @ Local parks and schools', u'This is an instructional program for boys and girls progressing from t-ball into pitched bal']"
       ]
      },
      {
       "output_type": "stream",
       "stream": "stdout",
       "text": [
        "\n"
       ]
      }
     ],
     "prompt_number": 236
    },
    {
     "cell_type": "code",
     "collapsed": false,
     "input": [],
     "language": "python",
     "metadata": {},
     "outputs": []
    },
    {
     "cell_type": "code",
     "collapsed": false,
     "input": [
      "# Crawling\n",
      "\n",
      "for a in soup.findAll('a', href = True):\n",
      "      if \"calendar\" in a['href'] or \"event\" in a['href']:\n",
      "            print a['href']"
     ],
     "language": "python",
     "metadata": {},
     "outputs": [
      {
       "output_type": "stream",
       "stream": "stdout",
       "text": [
        "/rss.aspx#calendar\n",
        "/common/modules/iCalendar/iCalendar.aspx?feed=calendar&eventID=3624\n",
        "/calendar.aspx?PREVIEW=YES&EID=3624\n"
       ]
      }
     ],
     "prompt_number": 144
    },
    {
     "cell_type": "code",
     "collapsed": false,
     "input": [
      "# Helper Functions\n",
      "\n",
      "# Return true if the string is a time, given it has a \":\" in it. \n",
      "def checktime(string):\n",
      "    if \":\" in string:\n",
      "        time = string.split(\":\")\n",
      "        for val in time:\n",
      "            if (not val.isdigit()):\n",
      "                return False\n",
      "        return True\n",
      "    elif len(string) == 2:\n",
      "        if string.isdigit() and int(string) < 24:\n",
      "            return True\n",
      "    elif len(string) == 4:\n",
      "        val1 = string[0:1]\n",
      "        val2 = string[2:3]\n",
      "        if val1.isdigit() and int(val1) < 24:\n",
      "            if val2.isdigit() and int(val2) < 60:\n",
      "                return True\n",
      "            elif \"am\" in val2 or \"pm\" in val2:\n",
      "                return True\n",
      "    return False\n",
      "\n",
      "# Check the date\n",
      "def checkdate(string):\n",
      "    string = string.lower()\n",
      "    for month in Months:\n",
      "        if month in string:\n",
      "            print month\n",
      "            return month\n",
      "    return False\n",
      "\n",
      "evening = [\"PM\", \"evening\", \"night\"]\n",
      "morning = [\"AM\", \"morning\", \"at first light\"]\n",
      "\n",
      "# Does it give us the Time of Day\n",
      "def ToD(word):\n",
      "    if word in evening:\n",
      "        return \"PM\"\n",
      "    elif word in morning:\n",
      "        return \"AM\"\n",
      "    else:\n",
      "        return False\n",
      "\n",
      "#Given an array of data, it returns a formatted database\n",
      "def obtainData(splice):\n",
      "    print splice\n",
      "    finalform = []\n",
      "    date = False\n",
      "    for word in splice:\n",
      "        x = checkdate(word);\n",
      "        y = ToD(word);\n",
      "        if checktime(word):\n",
      "            print \"Time!\"\n",
      "            finalform.append(word)\n",
      "        elif x:\n",
      "            print \"Date!\"\n",
      "            finalform.append(x)\n",
      "            date = True\n",
      "        elif date:\n",
      "            print \"Day!\"\n",
      "            finalform.append(word)\n",
      "            date= False\n",
      "        elif y:\n",
      "            finalform.append(y)\n",
      "    print finalform\n",
      "            \n"
     ],
     "language": "python",
     "metadata": {},
     "outputs": [],
     "prompt_number": 258
    },
    {
     "cell_type": "code",
     "collapsed": false,
     "input": [
      "for string in xrange(length):\n",
      "    if checktime(chars[string]):\n",
      "        if (checktime(chars[string])):\n",
      "            print chars[string]\n",
      "            splice = chars[string-crange:string+crange]\n",
      "            obtainData(splice)\n",
      "        "
     ],
     "language": "python",
     "metadata": {},
     "outputs": [
      {
       "output_type": "stream",
       "stream": "stdout",
       "text": [
        "2012\n",
        "[u'Quality', u'Control', u'Manager,', u'Jared', u'Cate,', u'Winner', u'of', u'the', u'Colorado', u'Summer', u'2012', u'Latte', u'Art', u'Throw-Down', u'Every', u'1st', u'Saturday', u'of', u'each', u'month']\n",
        "Time!\n",
        "[u'2012']\n",
        "2525\n",
        "[u'Every', u'1st', u'Saturday', u'of', u'each', u'month', u'11am', u'Village', u'Brewing', u'Market', u'2525', u'Arapahoe', u'in', u'Boulder', u'Free', u'Class', u'Reservation', u'not', u'required.', u'This']\n",
        "mar\n",
        "Date!\n",
        "Time!\n",
        "Day!\n",
        "['mar', u'2525', u'Arapahoe']\n"
       ]
      }
     ],
     "prompt_number": 259
    },
    {
     "cell_type": "code",
     "collapsed": false,
     "input": [
      "print chars"
     ],
     "language": "python",
     "metadata": {},
     "outputs": [
      {
       "output_type": "stream",
       "stream": "stdout",
       "text": [
        "[u'E', u'V', u'E', u'N', u'T', u'S', u'|', u'Brewing', u'Market', u'Coffee', u'Boulder', u'Longmont', u'Lafayette', u'Colorado', u'var', u'NWS_template_directory', u'=', u\"'http://brewingmarketcoffee.com/wp-content/themes/TheJewelryShop';\", u'var', u'NWS_template_directory_alt', u'=', u\"'brewingmarketcoffee.com/wp-content/themes/TheJewelryShop';\", u'Shopping', u'Basket:', u'0', u'items', u'Brewing', u'Market', u'Coffee', u'Boulder', u'Longmont', u'Lafayette', u'ColoradoVisit', u'our', u'five', u'coffee', u'shops', u'in', u'Boulder,', u'Longmont', u'&', u'Lafayette', u'Colorado', u'for', u'the', u'freshest', u'roasted', u'coffee', u'beans,', u'best', u'chai', u'tea', u'latte,', u'herbal', u'teas,', u'espresso,', u'mugs,', u'coffee', u'cups,', u'coffee', u'machines', u'and', u'supplies.', u'Login', u'to', u'your', u'Account', u'Do', u'not', u'have', u'an', u'account', u'yet?', u'Create', u'one', u'Username', u'Password', u'I', u'lost', u'my', u'password.', u'Please', u'email', u'it', u'to', u'me', u'Looking', u'for', u'something', u'specific?', u'H', u'O', u'M', u'EE', u'S', u'P', u'R', u'E', u'S', u'S', u'O-V', u'I', u'N', u'O', u'A', u'B', u'O', u'U', u'T', u'C', u'A', u'F', u'E', u'S', u'Village', u'Center', u'Boulder', u'Basemar', u'Center', u'Boulder', u'Downtown', u'Boulder', u'Lafayette/', u'Espresso', u'Vino', u'Longmont', u'C', u'O', u'F', u'F', u'E', u'E', u'Varietals', u'Blends', u'Dark', u'Roast', u'Decaf', u'Flavored', u'Decaf', u'Flavored', u'T', u'E', u'A', u'Black', u'Teas', u'Decaffeinated', u'Teas', u'Green', u'Teas', u'White', u'Teas', u'Oolong', u'Teas', u'Herbal', u'Infusions', u'Flavored', u'and', u'Scented', u'Teas', u'E', u'V', u'E', u'N', u'T', u'S', u'B', u'E', u'A', u'N', u'S', u'&', u'B', u'R', u'I', u'D', u'G', u'ES', u'E', u'M', u'P', u'L', u'O', u'Y', u'M', u'E', u'N', u'T', u'My', u'Account', u'Espresso-Vino', u'Events', u'To', u'view', u'Espresso', u'Vino', u'events,', u'please', u'visit', u'https://espressovino.squarespace.com/events/', u'Village', u'Events', u'Home', u'Barista', u'Class', u'with', u'our', u'Trainer', u'and', u'Quality', u'Control', u'Manager,', u'Jared', u'Cate,', u'Winner', u'of', u'the', u'Colorado', u'Summer', u'2012', u'Latte', u'Art', u'Throw-Down', u'Every', u'1st', u'Saturday', u'of', u'each', u'month', u'11am', u'Village', u'Brewing', u'Market', u'2525', u'Arapahoe', u'in', u'Boulder', u'Free', u'Class', u'Reservation', u'not', u'required.', u'This', u'informative', u'class', u'is', u'geared', u'towards', u'those', u'who', u'love', u'espresso', u'and', u'would', u'like', u'to', u'make', u'it', u'at', u'home', u'like', u'the', u'pros!', u'Discover', u'which', u'espresso', u'maker', u'is', u'right', u'for', u'you,', u'which', u'grind', u'is', u'best', u'for', u'your', u'method,', u'how', u'to', u'brew', u'the', u'perfect', u'espresso,', u'steam', u'milk,', u'and', u'more!', u'Get', u'your', u'questions', u'answered', u'and', u'start', u'impressing', u'your', u'family', u'and', u'friends', u'with', u'your', u'new', u'Home', u'Barista', u'skills!', u'Our', u'Coffee', u'Varietals', u'Blends', u'Dark', u'Roast', u'Decaf', u'Flavored', u'Decaf', u'Flavored', u'Find', u'us', u'on', u'Facebook', u'\\xa9', u'2015.', u'Brewing', u'Market', u'Coffee', u'Boulder', u'Longmont', u'Lafayette', u'Colorado.', u'|', u'All', u'Rights', u'Reserved.', u'Website', u'by', u'Janna', u'Vance.', u'Cufon.now();', u'var', u'gaJsHost', u'=', u'((\"https:\"', u'==', u'document.location.protocol)', u'?', u'\"https://ssl.\"', u':', u'\"http://www.\");', u'document.write(unescape(\"%3Cscript', u'src=\\'\"', u'+', u'gaJsHost', u'+', u'\"google-analytics.com/ga.js\\'', u'type=\\'text/javascript\\'%3E%3C/script%3E\"));', u'try', u'{', u'var', u'pageTracker', u'=', u'_gat._getTracker(\"UA-19889608-1\");', u'pageTracker._trackPageview();', u'}', u'catch(err)', u'{}']\n"
       ]
      }
     ],
     "prompt_number": 260
    },
    {
     "cell_type": "code",
     "collapsed": false,
     "input": [],
     "language": "python",
     "metadata": {},
     "outputs": []
    }
   ],
   "metadata": {}
  }
 ]
}